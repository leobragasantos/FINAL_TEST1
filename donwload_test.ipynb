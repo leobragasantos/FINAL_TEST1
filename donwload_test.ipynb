{
  "metadata": {
    "kernelspec": {
      "name": "python",
      "display_name": "Python (Pyodide)",
      "language": "python"
    },
    "language_info": {
      "codemirror_mode": {
        "name": "python",
        "version": 3
      },
      "file_extension": ".py",
      "mimetype": "text/x-python",
      "name": "python",
      "nbconvert_exporter": "python",
      "pygments_lexer": "ipython3",
      "version": "3.8"
    }
  },
  "nbformat_minor": 4,
  "nbformat": 4,
  "cells": [
    {
      "cell_type": "code",
      "source": "1 + 2",
      "metadata": {
        "trusted": true
      },
      "outputs": [
        {
          "execution_count": 1,
          "output_type": "execute_result",
          "data": {
            "text/plain": "3"
          },
          "metadata": {}
        }
      ],
      "execution_count": 1
    },
    {
      "cell_type": "markdown",
      "source": "## First start for today\n# Test headers\n* testing dots\n1. leo\n2. joão\n\n**testing bold**\n*Testing italic*",
      "metadata": {}
    },
    {
      "cell_type": "markdown",
      "source": "***testing bold***",
      "metadata": {}
    },
    {
      "cell_type": "markdown",
      "source": "| table of Names | Age |\n| -------------- | --- |\n| Leonardo Braga | 47 |\n| João Paulo Gusso | 40 |",
      "metadata": {}
    }
  ]
}